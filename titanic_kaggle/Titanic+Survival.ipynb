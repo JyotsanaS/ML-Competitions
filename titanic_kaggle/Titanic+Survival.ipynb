{
 "cells": [
  {
   "cell_type": "markdown",
   "metadata": {
    "nbpresent": {
     "id": "15424309-1e9b-4de8-a552-59e2a8af39cf"
    }
   },
   "source": [
    "# Titanic: Machine Learning from Disaster"
   ]
  },
  {
   "cell_type": "code",
   "execution_count": 3,
   "metadata": {
    "collapsed": false,
    "nbpresent": {
     "id": "39d71186-eb9d-48dd-aea7-d2013d384981"
    }
   },
   "outputs": [],
   "source": [
    "import pandas as pd"
   ]
  },
  {
   "cell_type": "code",
   "execution_count": 43,
   "metadata": {
    "collapsed": false,
    "nbpresent": {
     "id": "66f4b7ac-4a28-490b-baa5-f788f364115a"
    }
   },
   "outputs": [
    {
     "name": "stdout",
     "output_type": "stream",
     "text": [
      "   PassengerId  Survived  Pclass  \\\n",
      "0            1         0       3   \n",
      "1            2         1       1   \n",
      "2            3         1       3   \n",
      "3            4         1       1   \n",
      "4            5         0       3   \n",
      "\n",
      "                                                Name     Sex   Age  SibSp  \\\n",
      "0                            Braund, Mr. Owen Harris    male  22.0      1   \n",
      "1  Cumings, Mrs. John Bradley (Florence Briggs Th...  female  38.0      1   \n",
      "2                             Heikkinen, Miss. Laina  female  26.0      0   \n",
      "3       Futrelle, Mrs. Jacques Heath (Lily May Peel)  female  35.0      1   \n",
      "4                           Allen, Mr. William Henry    male  35.0      0   \n",
      "\n",
      "   Parch            Ticket     Fare Cabin Embarked  \n",
      "0      0         A/5 21171   7.2500   NaN        S  \n",
      "1      0          PC 17599  71.2833   C85        C  \n",
      "2      0  STON/O2. 3101282   7.9250   NaN        S  \n",
      "3      0            113803  53.1000  C123        S  \n",
      "4      0            373450   8.0500   NaN        S  \n"
     ]
    }
   ],
   "source": [
    "titanic=pd.read_csv(\"C:/Users/Jyotsana/Desktop/Interview Prep/Data Science/MLcompetitions/titanic_kaggle/Dataset/train.csv\")\n",
    "print(titanic.head(5))"
   ]
  },
  {
   "cell_type": "code",
   "execution_count": 50,
   "metadata": {
    "collapsed": false,
    "nbpresent": {
     "id": "ccb55bc3-8912-4c49-b461-25d3d6cde91d"
    }
   },
   "outputs": [
    {
     "name": "stdout",
     "output_type": "stream",
     "text": [
      "       PassengerId    Survived      Pclass         Age       SibSp  \\\n",
      "count   891.000000  891.000000  891.000000  891.000000  891.000000   \n",
      "mean    446.000000    0.383838    2.308642   29.361582    0.523008   \n",
      "std     257.353842    0.486592    0.836071   13.019697    1.102743   \n",
      "min       1.000000    0.000000    1.000000    0.420000    0.000000   \n",
      "25%     223.500000    0.000000    2.000000   22.000000    0.000000   \n",
      "50%     446.000000    0.000000    3.000000   28.000000    0.000000   \n",
      "75%     668.500000    1.000000    3.000000   35.000000    1.000000   \n",
      "max     891.000000    1.000000    3.000000   80.000000    8.000000   \n",
      "\n",
      "            Parch        Fare  \n",
      "count  891.000000  891.000000  \n",
      "mean     0.381594   32.204208  \n",
      "std      0.806057   49.693429  \n",
      "min      0.000000    0.000000  \n",
      "25%      0.000000    7.910400  \n",
      "50%      0.000000   14.454200  \n",
      "75%      0.000000   31.000000  \n",
      "max      6.000000  512.329200  \n"
     ]
    }
   ],
   "source": [
    "#Getting Stats of Non-Numeric data\n",
    "print(titanic.describe())"
   ]
  },
  {
   "cell_type": "code",
   "execution_count": 45,
   "metadata": {
    "collapsed": false,
    "nbpresent": {
     "id": "1d7c5273-33a1-45e6-a923-0516f96df1f1"
    }
   },
   "outputs": [
    {
     "name": "stdout",
     "output_type": "stream",
     "text": [
      "count    891.000000\n",
      "mean      29.361582\n",
      "std       13.019697\n",
      "min        0.420000\n",
      "25%       22.000000\n",
      "50%       28.000000\n",
      "75%       35.000000\n",
      "max       80.000000\n",
      "Name: Age, dtype: float64\n"
     ]
    }
   ],
   "source": [
    "#Age has missing values can be seen from count\n",
    "#Replacing missing values to median\n",
    "titanic[\"Age\"]=titanic[\"Age\"].fillna(titanic[\"Age\"].median())\n",
    "print(titanic[\"Age\"].describe())"
   ]
  },
  {
   "cell_type": "code",
   "execution_count": 47,
   "metadata": {
    "collapsed": false,
    "nbpresent": {
     "id": "2ab9c35b-e5e1-4727-a444-631eaed5e654"
    }
   },
   "outputs": [
    {
     "name": "stdout",
     "output_type": "stream",
     "text": [
      "['male' 'female']\n"
     ]
    }
   ],
   "source": [
    "#Convert Non-numeric column sex to numeric for feeding to machine learning algorithm\n",
    "#First find what all values it takes\n",
    "print(titanic[\"Sex\"].unique())\n",
    "titanic.loc[titanic[\"Sex\"]==\"male\",\"Sex\"]=0\n",
    "titanic.loc[titanic[\"Sex\"]==\"female\",\"Sex\"]=1\n"
   ]
  },
  {
   "cell_type": "code",
   "execution_count": 49,
   "metadata": {
    "collapsed": false,
    "nbpresent": {
     "id": "c96890fb-5689-400b-8f70-5f241df46129"
    }
   },
   "outputs": [
    {
     "name": "stdout",
     "output_type": "stream",
     "text": [
      "['S' 'C' 'Q' nan]\n",
      "S    644\n",
      "C    168\n",
      "Q     77\n",
      "Name: Embarked, dtype: int64\n"
     ]
    }
   ],
   "source": [
    "#Similarly for Embarked\n",
    "print(titanic[\"Embarked\"].unique())\n",
    "print(titanic[\"Embarked\"].value_counts())\n",
    "\n",
    "#Since S occurs most frequently we replace NA with mode\n",
    "titanic[\"Embarked\"]=titanic[\"Embarked\"].fillna('S')\n",
    "\n",
    "#Now converting each categry to numeric value\n",
    "titanic.loc[titanic[\"Embarked\"]=='S',\"Embarked\"]=0\n",
    "titanic.loc[titanic[\"Embarked\"]=='C',\"Embarked\"]=1\n",
    "titanic.loc[titanic[\"Embarked\"]=='Q',\"Embarked\"]=2\n",
    "\n"
   ]
  },
  {
   "cell_type": "code",
   "execution_count": 52,
   "metadata": {
    "collapsed": false,
    "nbpresent": {
     "id": "8a20e332-3734-4f90-9e3e-59dd7f5b9abf"
    }
   },
   "outputs": [
    {
     "name": "stdout",
     "output_type": "stream",
     "text": [
      "0.783389450056\n"
     ]
    },
    {
     "name": "stderr",
     "output_type": "stream",
     "text": [
      "C:\\Users\\Jyotsana\\Anaconda2\\lib\\site-packages\\ipykernel\\__main__.py:38: FutureWarning: in the future, boolean array-likes will be handled as a boolean array index\n"
     ]
    }
   ],
   "source": [
    "#Using linear regression to make prediction and using kfolding\n",
    "# Import the linear regression class\n",
    "from sklearn.linear_model import LinearRegression\n",
    "# Sklearn also has a helper that makes it easy to do cross-validation\n",
    "from sklearn.cross_validation import KFold\n",
    "\n",
    "# The columns we'll use to predict the target\n",
    "predictors = [\"Pclass\", \"Sex\", \"Age\", \"SibSp\", \"Parch\", \"Fare\", \"Embarked\"]\n",
    "\n",
    "# Initialize our algorithm class\n",
    "alg = LinearRegression()\n",
    "# Generate cross-validation folds for the titanic data set\n",
    "# It returns the row indices corresponding to train and test\n",
    "# We set random_state to ensure we get the same splits every time we run this\n",
    "kf = KFold(titanic.shape[0], n_folds=3, random_state=1)\n",
    "predictions = []\n",
    "for train, test in kf:\n",
    "    # The predictors we're using to train the algorithm  \n",
    "    # Note how we only take the rows in the train folds\n",
    "    train_predictors = (titanic[predictors].iloc[train,:])\n",
    "    # The target we're using to train the algorithm\n",
    "    train_target = titanic[\"Survived\"].iloc[train]\n",
    "    # Training the algorithm using the predictors and target\n",
    "    alg.fit(train_predictors, train_target)\n",
    "    # We can now make predictions on the test fold\n",
    "    test_predictions = alg.predict(titanic[predictors].iloc[test,:])\n",
    "    predictions.append(test_predictions)\n",
    "\n",
    "\n",
    "#Now doing evaluation metrics using Accuracy:-i.e. percentage of passengers you correctly predict\n",
    "#First concatenate predictions into single column.\n",
    "import numpy as np\n",
    "predictions = np.concatenate(predictions, axis=0)\n",
    "# Map predictions to outcomes (the only possible outcomes are 1 and 0)\n",
    "predictions[predictions > .5] = 1\n",
    "predictions[predictions <=.5] = 0\n",
    "\n",
    "accuracy = sum(predictions[predictions == titanic[\"Survived\"]]) / len(predictions)\n",
    "print (accuracy)"
   ]
  },
  {
   "cell_type": "code",
   "execution_count": 54,
   "metadata": {
    "collapsed": false,
    "nbpresent": {
     "id": "9535856c-4d72-447a-9634-98bf49d86f7a"
    }
   },
   "outputs": [
    {
     "name": "stdout",
     "output_type": "stream",
     "text": [
      "0.787878787879\n"
     ]
    }
   ],
   "source": [
    "#Using logistic regression\n",
    "from sklearn import cross_validation\n",
    "from sklearn.linear_model import LogisticRegression\n",
    "# Initialize our algorithm\n",
    "alg = LogisticRegression(random_state=1)\n",
    "# Compute the accuracy score for all the cross-validation folds; this is much simpler than what we did before\n",
    "scores = cross_validation.cross_val_score(alg, titanic[predictors], titanic[\"Survived\"], cv=3)\n",
    "# Take the mean of the scores (because we have one for each fold)\n",
    "print(scores.mean())"
   ]
  },
  {
   "cell_type": "code",
   "execution_count": 56,
   "metadata": {
    "collapsed": false,
    "nbpresent": {
     "id": "0ac6bc8f-cd36-4c01-b2bd-3326d27c3730"
    }
   },
   "outputs": [
    {
     "name": "stdout",
     "output_type": "stream",
     "text": [
      "       PassengerId      Pclass         Age       SibSp       Parch        Fare\n",
      "count   418.000000  418.000000  332.000000  418.000000  418.000000  417.000000\n",
      "mean   1100.500000    2.265550   30.272590    0.447368    0.392344   35.627188\n",
      "std     120.810458    0.841838   14.181209    0.896760    0.981429   55.907576\n",
      "min     892.000000    1.000000    0.170000    0.000000    0.000000    0.000000\n",
      "25%     996.250000    1.000000         NaN    0.000000    0.000000         NaN\n",
      "50%    1100.500000    3.000000         NaN    0.000000    0.000000         NaN\n",
      "75%    1204.750000    3.000000         NaN    1.000000    0.000000         NaN\n",
      "max    1309.000000    3.000000   76.000000    8.000000    9.000000  512.329200\n",
      "count    418.000000\n",
      "mean      29.805024\n",
      "std       12.667969\n",
      "min        0.170000\n",
      "25%       23.000000\n",
      "50%       28.000000\n",
      "75%       35.750000\n",
      "max       76.000000\n",
      "Name: Age, dtype: float64\n",
      "['male' 'female']\n"
     ]
    }
   ],
   "source": [
    "# Now testing on Test data\n",
    "titanic_test=pd.read_csv(\"C:/Users/Jyotsana/Desktop/Interview Prep/Data Science/MLcompetitions/titanic_kaggle/Dataset/test.csv\")\n",
    "#Getting Stats of Non-Numeric data\n",
    "print(titanic_test.describe())\n",
    "\n",
    "#Age has missing values can be seen from count\n",
    "#Replacing missing values to median of original training data\n",
    "titanic_test[\"Age\"]=titanic_test[\"Age\"].fillna(titanic[\"Age\"].median())\n",
    "print(titanic_test[\"Age\"].describe())\n",
    "\n",
    "#Convert Non-numeric column sex to numeric for feeding to machine learning algorithm\n",
    "#First find what all values it takes\n",
    "print(titanic_test[\"Sex\"].unique())\n",
    "titanic_test.loc[titanic_test[\"Sex\"]==\"male\",\"Sex\"]=0\n",
    "titanic_test.loc[titanic_test[\"Sex\"]==\"female\",\"Sex\"]=1\n",
    "\n",
    "\n",
    "#Similarly for Embarked\n",
    "#Since S occurs most frequently we replace NA with mode\n",
    "titanic_test[\"Embarked\"]=titanic_test[\"Embarked\"].fillna('S')\n",
    "#Now converting each categry to numeric value\n",
    "titanic_test.loc[titanic_test[\"Embarked\"]=='S',\"Embarked\"]=0\n",
    "titanic_test.loc[titanic_test[\"Embarked\"]=='C',\"Embarked\"]=1\n",
    "titanic_test.loc[titanic_test[\"Embarked\"]=='Q',\"Embarked\"]=2\n",
    "\n",
    "#Fare has one less count means it has one NA\n",
    "#So we replace it with median\n",
    "#Test set can have different issue of cleaning as training data\n",
    "titanic_test[\"Fare\"]=titanic_test[\"Fare\"].fillna(titanic_test[\"Fare\"].median())\n",
    "\n",
    "\n"
   ]
  },
  {
   "cell_type": "code",
   "execution_count": null,
   "metadata": {
    "collapsed": true,
    "nbpresent": {
     "id": "f80a0a38-b4b3-49a1-bdbf-1799280a318d"
    }
   },
   "outputs": [],
   "source": [
    "#Creating Submitting file from Logistic Regression Since we get best accuracy from it.\n",
    "# Initialize the algorithm class\n",
    "from sklearn.linear_model import LogisticRegression\n",
    "alg = LogisticRegression(random_state=1)\n",
    "\n",
    "#print (titanic.head(5))\n",
    "\n",
    "# Train the algorithm using all the training data\n",
    "alg.fit(titanic[predictors], titanic[\"Survived\"])\n",
    "\n",
    "# Make predictions using the test set\n",
    "predictions = alg.predict(titanic_test[predictors])\n",
    "\n",
    "# Create a new dataframe with only the columns Kaggle wants from the data set\n",
    "submission = pd.DataFrame({\n",
    "        \"PassengerId\": titanic_test[\"PassengerId\"],\n",
    "        \"Survived\": predictions\n",
    "    })\n",
    "\n",
    "print submission.head(5)\n",
    "\n",
    "submission.to_csv(\"C:/Users/Jyotsana/Desktop/Interview Prep/Data Science/MLcompetitions/titanic_kaggle/Dataset/submission_LR.csv\")"
   ]
  },
  {
   "cell_type": "markdown",
   "metadata": {
    "nbpresent": {
     "id": "3dd3786c-8744-4f87-bf25-d08de1910e12"
    }
   },
   "source": [
    "This was the end of my first Submission. My Submission got Accuracy of 75%. Now I will try to improve this model."
   ]
  },
  {
   "cell_type": "code",
   "execution_count": null,
   "metadata": {
    "collapsed": true,
    "nbpresent": {
     "id": "0e96e138-3930-4946-aebe-5b63407b5ede"
    }
   },
   "outputs": [],
   "source": []
  }
 ],
 "metadata": {
  "anaconda-cloud": {},
  "kernelspec": {
   "display_name": "Python [conda root]",
   "language": "python",
   "name": "conda-root-py"
  },
  "language_info": {
   "codemirror_mode": {
    "name": "ipython",
    "version": 2
   },
   "file_extension": ".py",
   "mimetype": "text/x-python",
   "name": "python",
   "nbconvert_exporter": "python",
   "pygments_lexer": "ipython2",
   "version": "2.7.12"
  }
 },
 "nbformat": 4,
 "nbformat_minor": 1
}
